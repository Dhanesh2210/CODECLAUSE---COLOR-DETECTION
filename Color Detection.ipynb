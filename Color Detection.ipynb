{
 "cells": [
  {
   "cell_type": "markdown",
   "id": "e87b4142",
   "metadata": {},
   "source": [
    "# COLOR DETECTION USING PYTHON"
   ]
  },
  {
   "cell_type": "markdown",
   "id": "1607132a",
   "metadata": {},
   "source": [
    "### Importing OpenCV and Pandas library"
   ]
  },
  {
   "cell_type": "code",
   "execution_count": 1,
   "id": "d7fb3666",
   "metadata": {},
   "outputs": [],
   "source": [
    "import cv2\n",
    "import pandas as pd"
   ]
  },
  {
   "cell_type": "markdown",
   "id": "4685196f",
   "metadata": {},
   "source": [
    "### Importing the image and the color dataset"
   ]
  },
  {
   "cell_type": "code",
   "execution_count": 2,
   "id": "3a18dfed",
   "metadata": {},
   "outputs": [],
   "source": [
    "img_path = 'img2.jpg'\n",
    "csv_path = 'colors.csv'"
   ]
  },
  {
   "cell_type": "code",
   "execution_count": 3,
   "id": "bb71bd52",
   "metadata": {},
   "outputs": [],
   "source": [
    "index = ['color','color_name', 'hex', 'R', 'G', 'B']\n",
    "df = pd.read_csv(csv_path, names=index, header=None)"
   ]
  },
  {
   "cell_type": "code",
   "execution_count": 4,
   "id": "e57d46a1",
   "metadata": {},
   "outputs": [],
   "source": [
    "img = cv2.imread(img_path)\n",
    "img = cv2.resize(img,(800,600))"
   ]
  },
  {
   "cell_type": "code",
   "execution_count": 5,
   "id": "0bc8d0c5",
   "metadata": {},
   "outputs": [],
   "source": [
    "clicked = False\n",
    "r = g = b = xpos = ypos = 0"
   ]
  },
  {
   "cell_type": "markdown",
   "id": "4ac4c99c",
   "metadata": {},
   "source": [
    "### Defining a function to find the name of the color from the dataset"
   ]
  },
  {
   "cell_type": "code",
   "execution_count": 6,
   "id": "eb781143",
   "metadata": {},
   "outputs": [],
   "source": [
    "def get_color_name(R,G,B):\n",
    "    minimum = 1000\n",
    "    for i in range(len(df)):\n",
    "        d = abs(R - int(df.loc[i,'R'])) + abs(G - int(df.loc[i,'G'])) + abs(B - int(df.loc[i,'B']))\n",
    "        if d <= minimum:\n",
    "            minimum = d\n",
    "            cname = df.loc[i,'color_name']\n",
    "            \n",
    "    return cname    "
   ]
  },
  {
   "cell_type": "markdown",
   "id": "f67d98e3",
   "metadata": {},
   "source": [
    "### Defining a function to find the color of the point where the mouse is clicked"
   ]
  },
  {
   "cell_type": "code",
   "execution_count": 7,
   "id": "8a09a293",
   "metadata": {},
   "outputs": [],
   "source": [
    "def draw_function(event, x, y, flags, params):\n",
    "    if event == cv2.EVENT_LBUTTONDBLCLK:\n",
    "        global b, g, r, xpos, ypos, clicked\n",
    "        clicked = True\n",
    "        xpos = x\n",
    "        ypos = y\n",
    "        b,g,r = img[y,x]\n",
    "        b = int(b)\n",
    "        g = int(g)\n",
    "        r = int(r)"
   ]
  },
  {
   "cell_type": "code",
   "execution_count": 8,
   "id": "aec6871d",
   "metadata": {},
   "outputs": [],
   "source": [
    "cv2.namedWindow('image')\n",
    "cv2.setMouseCallback('image', draw_function)"
   ]
  },
  {
   "cell_type": "code",
   "execution_count": null,
   "id": "48546bb6",
   "metadata": {},
   "outputs": [],
   "source": [
    "while True:\n",
    "    cv2.imshow('image', img)\n",
    "    if clicked:\n",
    "        cv2.rectangle(img, (20,20), (600,60), (b,g,r), -1)\n",
    "        text = get_color_name(r,g,b) \n",
    "        cv2.putText(img, text, (50,50), 2, 0.8, (255,255,255),2,cv2.LINE_AA)\n",
    "        \n",
    "        if r+g+b >= 600:\n",
    "            cv2.putText(img, text, (50,50), 2, 0.8, (0,0,0),2,cv2.LINE_AA)\n",
    "      \n",
    "    if cv2.waitKey(20) & 0xFF == 27:\n",
    "        break\n",
    "\n",
    "cv2.destroyAllWindows()        "
   ]
  }
 ],
 "metadata": {
  "kernelspec": {
   "display_name": "Python 3 (ipykernel)",
   "language": "python",
   "name": "python3"
  },
  "language_info": {
   "codemirror_mode": {
    "name": "ipython",
    "version": 3
   },
   "file_extension": ".py",
   "mimetype": "text/x-python",
   "name": "python",
   "nbconvert_exporter": "python",
   "pygments_lexer": "ipython3",
   "version": "3.11.3"
  }
 },
 "nbformat": 4,
 "nbformat_minor": 5
}
